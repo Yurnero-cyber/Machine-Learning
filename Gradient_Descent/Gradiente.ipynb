{
 "cells": [
  {
   "cell_type": "code",
   "execution_count": null,
   "id": "094445d4-72e0-43e3-b458-019a6cf23af1",
   "metadata": {},
   "outputs": [],
   "source": [
    "import numpy as np\n",
    "import matplotlib.pyplot as plt\n",
    "\n",
    "import matplotlib\n",
    "matplotlib.rcParams['mathtext.fontset'] = 'stix'\n",
    "matplotlib.rcParams['font.family'] = 'STIXGeneral'\n",
    "matplotlib.rcParams.update({'font.size': 18})\n",
    "\n",
    "from pandas import *"
   ]
  },
  {
   "cell_type": "code",
   "execution_count": 5,
   "id": "686c26ec-6548-4493-977f-6a7dfd29982e",
   "metadata": {},
   "outputs": [],
   "source": [
    "def update_w_and_b(spendings, sales, w, b, alpha):\n",
    "    dl_dw = 0.0\n",
    "    dl_db = 0.0\n",
    "    N = len(spendings)\n",
    "    \n",
    "    for i in range(N):\n",
    "        dl_dw += -2*spendings[i] * (sales[i] - (w*spendings[i] + b))\n",
    "        dl_db += -2*(sales[i] - (w*spendings[i] + b))\n",
    "        \n",
    "    # update w and b\n",
    "    w = w - (1/float(N)) * dl_dw * alpha\n",
    "    b = b - (1/float(N)) * dl_db * alpha\n",
    "    return w, b\n",
    "\n",
    "def train(spendings, sales, w, b, alpha, epochs):\n",
    "    for e in range(epochs):\n",
    "        w, b = update_w_and_b(spendings, sales, w, b, alpha)\n",
    "        \n",
    "        # log the progress\n",
    "        if e % 400 == 0:\n",
    "            print(\"epoch:\", e, \"loss: \", avg_loss(spendings, sales, w, b))\n",
    "    return w, b\n",
    "\n",
    "def loss(spendings, sales, w, b):\n",
    "    N = len(spendings)\n",
    "    total_error = 0.0\n",
    "    for i in range(N):\n",
    "        total_error += (sales[i] - (w*spendings[i] + b))**2\n",
    "    return total_error / N\n",
    "\n",
    "def avg_loss(spendings, sales, w, b):\n",
    "    N = len(spendings)\n",
    "    total_error = 0.0\n",
    "    for i in range(N):\n",
    "        total_error += (sales[i] - (w * spendings[i] + b))**2    \n",
    "    return total_error / float(N)\n",
    "\n",
    "def predict(x, w, b):\n",
    "    return w*x + b\n",
    "\n"
   ]
  },
  {
   "cell_type": "code",
   "execution_count": null,
   "id": "b90e8799-816f-434e-89c0-b47821cf6238",
   "metadata": {},
   "outputs": [],
   "source": []
  },
  {
   "cell_type": "code",
   "execution_count": 21,
   "id": "1e8dae75-4342-45dc-a7bb-49a817532185",
   "metadata": {},
   "outputs": [
    {
     "data": {
      "text/plain": [
       "<matplotlib.collections.PathCollection at 0x209b15fd650>"
      ]
     },
     "execution_count": 21,
     "metadata": {},
     "output_type": "execute_result"
    },
    {
     "data": {
      "image/png": "[encoded data removed]",
      "text/plain": [
       "<Figure size 640x480 with 1 Axes>"
      ]
     },
     "metadata": {},
     "output_type": "display_data"
    }
   ],
   "source": [
    "data = read_csv(\"Advertising.csv\")\n",
    "\n",
    "x = data['radio'].tolist()\n",
    "y = data['sales'].tolist()\n",
    "\n",
    "plt.scatter(x,y)\n"
   ]
  },
  {
   "cell_type": "code",
   "execution_count": 27,
   "id": "203023fc-ba3b-4867-9014-7883d11f5925",
   "metadata": {},
   "outputs": [
    {
     "name": "stdout",
     "output_type": "stream",
     "text": [
      "epoch: 0 loss:  92.32078294903626\n",
      "epoch: 400 loss:  33.79131790081576\n",
      "epoch: 800 loss:  27.9918542960729\n",
      "epoch: 1200 loss:  24.33481690722147\n",
      "epoch: 1600 loss:  22.028754937538633\n",
      "epoch: 2000 loss:  20.57459375662496\n",
      "epoch: 2400 loss:  19.657625883308423\n",
      "epoch: 2800 loss:  19.07940244306619\n",
      "epoch: 3200 loss:  18.71478514667572\n",
      "epoch: 3600 loss:  18.48486404079425\n",
      "epoch: 4000 loss:  18.33987992881413\n",
      "epoch: 4400 loss:  18.248455556762373\n",
      "epoch: 4800 loss:  18.19080499291156\n",
      "epoch: 5200 loss:  18.154451584758743\n",
      "epoch: 5600 loss:  18.131527779750563\n",
      "epoch: 6000 loss:  18.117072440822145\n",
      "epoch: 6400 loss:  18.1079571642151\n",
      "epoch: 6800 loss:  18.102209234814435\n",
      "epoch: 7200 loss:  18.098584693967343\n",
      "epoch: 7600 loss:  18.096299123732113\n",
      "epoch: 8000 loss:  18.094857884270205\n",
      "epoch: 8400 loss:  18.093949064600373\n",
      "epoch: 8800 loss:  18.09337597927063\n",
      "epoch: 9200 loss:  18.093014601974247\n",
      "epoch: 9600 loss:  18.092786723954067\n",
      "epoch: 10000 loss:  18.09264302817517\n",
      "epoch: 10400 loss:  18.09255241620278\n",
      "epoch: 10800 loss:  18.092495277923536\n",
      "epoch: 11200 loss:  18.092459247552828\n",
      "epoch: 11600 loss:  18.09243652744942\n",
      "epoch: 12000 loss:  18.092422200561078\n",
      "epoch: 12400 loss:  18.092413166283066\n",
      "epoch: 12800 loss:  18.09240746942995\n",
      "epoch: 13200 loss:  18.09240387709688\n",
      "epoch: 13600 loss:  18.09240161183628\n",
      "epoch: 14000 loss:  18.092400183403708\n",
      "epoch: 14400 loss:  18.092399282659834\n",
      "epoch: 14800 loss:  18.092398714666967\n",
      "10.32273227490837\n"
     ]
    }
   ],
   "source": [
    "w, b = train(x, y, 0.0, 0.0, 0.001, 15000)\n",
    "x_new = 5.0\n",
    "y_new = predict(x_new, w, b)\n",
    "print(y_new)"
   ]
  },
  {
   "cell_type": "code",
   "execution_count": null,
   "id": "4ec0c489-09d6-43b1-bc8e-4207ed0fc95a",
   "metadata": {},
   "outputs": [],
   "source": [
    "plt.scatter(x,y)\n",
    "plt.scatter([x_new],[y_new])"
   ]
  },
  {
   "cell_type": "code",
   "execution_count": null,
   "id": "90ee08f1-6a7b-4f3a-806a-145fa3c69bd6",
   "metadata": {},
   "outputs": [],
   "source": []
  },
  {
   "cell_type": "code",
   "execution_count": null,
   "id": "27102e10-1af1-4a22-ba66-35d1382f54cb",
   "metadata": {},
   "outputs": [],
   "source": []
  }
 ],
 "metadata": {
  "kernelspec": {
   "display_name": "Python 3 (ipykernel)",
   "language": "python",
   "name": "python3"
  },
  "language_info": {
   "codemirror_mode": {
    "name": "ipython",
    "version": 3
   },
   "file_extension": ".py",
   "mimetype": "text/x-python",
   "name": "python",
   "nbconvert_exporter": "python",
   "pygments_lexer": "ipython3",
   "version": "3.11.0"
  }
 },
 "nbformat": 4,
 "nbformat_minor": 5
}
